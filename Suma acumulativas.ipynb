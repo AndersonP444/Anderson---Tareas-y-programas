{
 "cells": [
  {
   "cell_type": "code",
   "execution_count": 1,
   "metadata": {},
   "outputs": [
    {
     "name": "stdout",
     "output_type": "stream",
     "text": [
      "V\n",
      "J-Hope\n",
      "RM\n",
      "Jungkook\n",
      "Jin\n",
      "Jimin\n",
      "Suga\n"
     ]
    }
   ],
   "source": [
    "\"\"\" Q1. Declarar unar lista bts. A continuacion escribir el codigo que imprima todos los elementos por separado usando la sentencia for.\"\"\"\n",
    "bts = ['V', 'J-Hope', 'RM', 'Jungkook', 'Jin', 'Jimin', 'Suga']\n",
    "for artist in bts:\n",
    "    print(artist)"
   ]
  },
  {
   "cell_type": "code",
   "execution_count": null,
   "metadata": {},
   "outputs": [],
   "source": [
    "\" Q2. Imprimir suma acumulativa de los numeros del 1 al 100\"\n",
    "acumulado_suma = 0\n",
    "for i in range(1, 101):\n",
    "    acumulado_suma += i\n",
    "print(f\" La suma de los numeros enteros del 1 al 100 es: {acumulado_suma}\")"
   ]
  },
  {
   "cell_type": "code",
   "execution_count": null,
   "metadata": {},
   "outputs": [
    {
     "name": "stdout",
     "output_type": "stream",
     "text": [
      "La suma de los numeros pares del 1 al 100 es: 2550\n"
     ]
    }
   ],
   "source": [
    "\" Q3. Imprimir suma acumulativa de los numeros del 0 al 100 de 2 en 2\"\n",
    "acumulado_suma = 0\n",
    "for i in range(0,101,2):\n",
    "    acumulado_suma += i\n",
    "print(f\"La suma de los numeros pares del 0 al 100 es: {acumulado_suma}\")"
   ]
  },
  {
   "cell_type": "code",
   "execution_count": null,
   "metadata": {},
   "outputs": [
    {
     "name": "stdout",
     "output_type": "stream",
     "text": [
      "La suma de los numeros impares del 1 al 100 es: 2500\n"
     ]
    }
   ],
   "source": [
    "\" Q4. Imprimir suma acumulativa de los numeros del 1 al 100 pero de manera impar\"\n",
    "acumulado_suma = 0\n",
    "for i in range(1,101,2):\n",
    "    acumulado_suma += i\n",
    "print(f\"La suma de los numeros impares del 1 al 100 es: {acumulado_suma}\")"
   ]
  },
  {
   "cell_type": "code",
   "execution_count": 1,
   "metadata": {},
   "outputs": [
    {
     "name": "stdout",
     "output_type": "stream",
     "text": [
      "[1, 2, 3, 4, 5]\n",
      "[10, 9, 8, 7, 6]\n",
      "[11, 12, 13, 14, 15]\n",
      "[20, 19, 18, 17, 16]\n",
      "[21, 22, 23, 24, 25]\n"
     ]
    }
   ],
   "source": [
    "\" Q1. La agencia  tiene previsto emitir entradas de un concierto. Aqui n es la entrada y el numero de asientos y se organiza de la siguiente manera n * n asientos se colocan cuando n se da como entrada\"\n",
    "def matriz_serpiente(n):\n",
    "    # Crear una matriz vacía de n x n\n",
    "    matriz = [[0] * n for _ in range(n)]\n",
    "    \n",
    "    # Variable para llevar la cuenta del número a insertar en la matriz\n",
    "    numero = 1\n",
    "    \n",
    "    for i in range(n):\n",
    "        if i % 2 == 0:  # Filas impares (índice 0, 2, 4...) -> izquierda a derecha\n",
    "            for j in range(n):\n",
    "                matriz[i][j] = numero\n",
    "                numero += 1\n",
    "        else:  # Filas pares (índice 1, 3, 5...) -> derecha a izquierda\n",
    "            for j in range(n-1, -1, -1):\n",
    "                matriz[i][j] = numero\n",
    "                numero += 1\n",
    "    \n",
    "    # Retornar la matriz\n",
    "    return matriz\n",
    "\n",
    "# Función para imprimir la matriz de forma legible\n",
    "def imprimir_matriz(matriz):\n",
    "    for fila in matriz:\n",
    "        print(fila)\n",
    "\n",
    "# Ejemplo de uso\n",
    "n = 5  # Puedes cambiar el tamaño de la matriz\n",
    "matriz = matriz_serpiente(n)\n",
    "imprimir_matriz(matriz)\n"
   ]
  }
 ],
 "metadata": {
  "kernelspec": {
   "display_name": "Python 3",
   "language": "python",
   "name": "python3"
  },
  "language_info": {
   "codemirror_mode": {
    "name": "ipython",
    "version": 3
   },
   "file_extension": ".py",
   "mimetype": "text/x-python",
   "name": "python",
   "nbconvert_exporter": "python",
   "pygments_lexer": "ipython3",
   "version": "3.13.0"
  }
 },
 "nbformat": 4,
 "nbformat_minor": 2
}
