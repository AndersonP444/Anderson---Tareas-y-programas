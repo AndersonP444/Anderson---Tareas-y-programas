{
 "cells": [
  {
   "cell_type": "code",
   "execution_count": null,
   "metadata": {},
   "outputs": [],
   "source": [
    "#     1   2   3   4   5\n",
    "S = [10, 40, 30, 20, 50] \n",
    "temp = 20\n",
    "\n",
    "def intercambiol(S, x, y):\n",
    "    temporal = S[x] # S[x], S[y] = S[y], S[x], tambien se puede hacer asi, se omite lo demas y prosigue el print\n",
    "    S[x] = S[y]\n",
    "    S[y] = temporal\n",
    "\n",
    "print(S); intercambiol(S, 1, 3)\n",
    "print(S)"
   ]
  },
  {
   "cell_type": "code",
   "execution_count": null,
   "metadata": {},
   "outputs": [
    {
     "name": "stdout",
     "output_type": "stream",
     "text": [
      "[50, 30, 40, 10, 20]\n",
      "[30, 40, 10, 20, 50]\n",
      "[30, 10, 20, 40, 50]\n",
      "[10, 20, 30, 40, 50]\n",
      "[10, 20, 30, 40, 50]\n",
      "[10, 20, 30, 40, 50]\n"
     ]
    }
   ],
   "source": [
    "def bubblesort(s):\n",
    "    global c1, c2\n",
    "    n = len(s)\n",
    "    for i in range(n):\n",
    "        print(s)\n",
    "        for j in range(n - 1 - i): #-i?\n",
    "            c1 += 1\n",
    "            if s[j] > s[j + 1]:\n",
    "                s[j], s[j + 1] = s[j + 1], s[j]\n",
    "                c2 += 1\n",
    "    return S\n",
    "# bubblesort\n",
    "# n+ 0(1) = o(n)\n",
    "\n",
    "s = [50, 30, 40, 10, 20]\n",
    "c1 = c2 = 0\n",
    "bubblesort(s)\n",
    "print(s) "
   ]
  },
  {
   "cell_type": "code",
   "execution_count": null,
   "metadata": {},
   "outputs": [
    {
     "name": "stdout",
     "output_type": "stream",
     "text": [
      "[] [50, 30, 40, 10, 20]\n",
      "[10] [50, 30, 40, 20]\n",
      "[10, 20] [50, 30, 40]\n",
      "[10, 20, 30] [50, 40]\n",
      "[10, 20, 30, 40] [50]\n",
      "[10, 20, 30, 40, 50]\n"
     ]
    }
   ],
   "source": [
    "def selectionsort1(s):\n",
    "    a = []\n",
    "    while len(s) > 0:\n",
    "        print(a, s)\n",
    "        menor = s.index(min(s))\n",
    "        a.append(s.pop(menor))\n",
    "    return a\n",
    "\n",
    "s = [50, 30, 40, 10, 20]\n",
    "r = selectionsort1(s)\n",
    "print(r)"
   ]
  },
  {
   "cell_type": "code",
   "execution_count": null,
   "metadata": {},
   "outputs": [
    {
     "name": "stdout",
     "output_type": "stream",
     "text": [
      "[50, 30, 40, 10, 20]\n",
      "[30, 50, 40, 10, 20]\n",
      "[30, 40, 50, 10, 20]\n",
      "[10, 30, 40, 50, 20]\n",
      "[10, 20, 30, 40, 50]\n"
     ]
    }
   ],
   "source": [
    "def insertionsort2(s):\n",
    "    n = len(s) # 5\n",
    "    for i in range(1, n): # 1, 2, 3, 4, 5  i = 1\n",
    "        print(s)\n",
    "        x  = s[i] # x = 30\n",
    "        j = i - 1 # j = -1\n",
    "        while j >= 0 and s[j] > x:\n",
    "            s[j + 1] = s[j]\n",
    "            j -= 1\n",
    "        s[j + 1] = x # s[0]\n",
    "    return s\n",
    "\n",
    "#       0   1   2   3   4\n",
    "# s = [30, 50, 40, 10, 20]\n",
    "s = [50, 30, 40, 10, 20]\n",
    "r = insertionsort2(s)\n",
    "print(r)"
   ]
  },
  {
   "cell_type": "code",
   "execution_count": null,
   "metadata": {},
   "outputs": [
    {
     "name": "stdout",
     "output_type": "stream",
     "text": [
      "[1, 2, 3, 4, 5, 6, 7, 8, 9]\n"
     ]
    }
   ],
   "source": [
    "def quick_sort(arr):\n",
    "  \"\"\"Implementación del algoritmo Quick Sort\n",
    "\n",
    "  Args:\n",
    "    arr: La lista de elementos a ordenar.\n",
    "\n",
    "  Returns:\n",
    "    La lista ordenada.\n",
    "  \"\"\"\n",
    "\n",
    "  if len(arr) <= 1:\n",
    "    return arr\n",
    "  else:\n",
    "    pivot = arr[0]\n",
    "    less = [x for x in arr[1:] if x <= pivot]\n",
    "    greater = [x for x in arr[1:] if x > pivot]\n",
    "    return quick_sort(less) + [pivot] + quick_sort(greater)\n",
    "\n",
    "# Ejemplo de uso:\n",
    "lista = [3, 7, 8, 5, 2, 1, 9, 6, 4]\n",
    "lista_ordenada = quick_sort(lista)\n",
    "print(lista_ordenada)"
   ]
  },
  {
   "cell_type": "code",
   "execution_count": null,
   "metadata": {},
   "outputs": [
    {
     "name": "stdout",
     "output_type": "stream",
     "text": [
      "[6, 2, 11, 7, 5, 4, 8, 16, 10, 3]\n",
      "[6, 2, 11, 7, 5]\n",
      "[6, 2]\n",
      "[11, 7, 5]\n",
      "[7, 5]\n",
      "[4, 8, 16, 10, 3]\n",
      "[4, 8]\n",
      "[16, 10, 3]\n",
      "[10, 3]\n",
      "[2, 3, 4, 5, 6, 7, 8, 10, 11, 16]\n"
     ]
    }
   ],
   "source": [
    "def  mergeSort2(S):\n",
    "  n = len(S)\n",
    "  if n > 1:\n",
    "    print(S)\n",
    "    mid = n // 2\n",
    "    izquierda = S[:mid]\n",
    "    derecha = S[mid:]\n",
    "    mergeSort2(izquierda)\n",
    "    mergeSort2(derecha)\n",
    "    merge2(S, izquierda, derecha)\n",
    "\n",
    "# Fix the merge2 function\n",
    "def merge2(S, izquierda, derecha):\n",
    "    k = 0\n",
    "    while len(izquierda) > 0 and len(derecha) > 0:\n",
    "        if izquierda[0] <= derecha[0]:\n",
    "            S[k] = izquierda.pop(0)  # Changed from pop[0] to pop(0)\n",
    "        else:\n",
    "            S[k] = derecha.pop(0)  # Changed from pop[0] to pop(0)\n",
    "        k += 1\n",
    "    while len(izquierda) != 0:\n",
    "        S[k] = izquierda.pop(0)  # Changed from pop[0] to pop(0)\n",
    "        k += 1\n",
    "    while len(derecha) != 0:\n",
    "        S[k] = derecha.pop(0)  # Changed from pop[0] to pop(0)\n",
    "        k += 1\n",
    "\n",
    "# Run the sorting algorithm again\n",
    "S = [6,2,11,7,5,4,8,16,10,3]\n",
    "mergeSort2(S)\n",
    "print(S)"
   ]
  },
  {
   "cell_type": "code",
   "execution_count": null,
   "metadata": {},
   "outputs": [
    {
     "name": "stdout",
     "output_type": "stream",
     "text": [
      "[6, 2, 11, 7, 5, 4, 8, 16, 10, 3]\n",
      "[6, 2, 11, 7, 5]\n",
      "[6, 2]\n",
      "[11, 7, 5]\n",
      "[7, 5]\n",
      "[4, 8, 16, 10, 3]\n",
      "[4, 8]\n",
      "[16, 10, 3]\n",
      "[10, 3]\n",
      "[2, 3, 4, 5, 6, 7, 8, 10, 11, 16]\n",
      "Número de llamadas a merge2: 1\n"
     ]
    }
   ],
   "source": [
    "def  mergeSort2(S):\n",
    "  n = len(S)\n",
    "  contador_merge2 = 0 # iniciamos un contador\n",
    "\n",
    "  if n > 1:\n",
    "    print(S)\n",
    "    mid = n // 2\n",
    "    izquierda = S[:mid]\n",
    "    derecha = S[mid:]\n",
    "    mergeSort2(izquierda)\n",
    "    mergeSort2(derecha)\n",
    "    merge2(S, izquierda, derecha)\n",
    "    contador_merge2 += 1 # incrementamos el contador cada vez que se llame a merge2\n",
    "  return contador_merge2\n",
    "\n",
    "def merge2(S, izquierda, derecha):\n",
    "  k = 0\n",
    "  while len(izquierda) > 0 and len(derecha) > 0:\n",
    "    if izquierda[0] <= derecha[0]:\n",
    "      S[k] = izquierda.pop(0)\n",
    "    else:\n",
    "      S[k] = derecha.pop(0)\n",
    "    k += 1\n",
    "  while len(izquierda) != 0:\n",
    "    S[k] = izquierda.pop(0)\n",
    "    k += 1\n",
    "  while len(derecha) != 0:\n",
    "    S[k] = derecha.pop(0)\n",
    "    k += 1\n",
    "\n",
    "S = [6,2,11,7,5,4,8,16,10,3]\n",
    "contador_merge2 = mergeSort2(S)\n",
    "print(S)\n",
    "print(\"Número de llamadas a merge2:\", contador_merge2)"
   ]
  },
  {
   "cell_type": "code",
   "execution_count": null,
   "metadata": {},
   "outputs": [
    {
     "name": "stdout",
     "output_type": "stream",
     "text": [
      "[2, 3, 4, 5, 6, 7, 8, 10, 11, 16]\n",
      "Número de llamadas a merge2 es: 9\n"
     ]
    }
   ],
   "source": [
    "def mergeSort2(S, contador_merge2=0):\n",
    "    n = len(S)\n",
    "    if n > 1:\n",
    "        mid = n // 2\n",
    "        izquierda = S[:mid]\n",
    "        derecha = S[mid:]\n",
    "        \n",
    "        # Llamadas recursivas para dividir las mitades y contar las llamadas a merge2\n",
    "        contador_merge2 = mergeSort2(izquierda, contador_merge2)\n",
    "        contador_merge2 = mergeSort2(derecha, contador_merge2)\n",
    "        \n",
    "        # Fusionar las mitades y contar una llamada a merge2\n",
    "        merge2(S, izquierda, derecha)\n",
    "        contador_merge2 += 1\n",
    "\n",
    "    return contador_merge2\n",
    "\n",
    "def merge2(S, izquierda, derecha):\n",
    "    k = 0\n",
    "    while len(izquierda) > 0 and len(derecha) > 0:\n",
    "        if izquierda[0] <= derecha[0]:\n",
    "            S[k] = izquierda.pop(0)\n",
    "        else:\n",
    "            S[k] = derecha.pop(0)\n",
    "        k += 1\n",
    "    while len(izquierda) != 0:\n",
    "        S[k] = izquierda.pop(0)\n",
    "        k += 1\n",
    "    while len(derecha) != 0:\n",
    "        S[k] = derecha.pop(0)\n",
    "        k += 1\n",
    "\n",
    "# Ejecución del código\n",
    "S = [6,2,11,7,5,4,8,16,10,3]\n",
    "contador_merge2 = mergeSort2(S)\n",
    "print(S)\n",
    "print(\"Número de llamadas a merge2 es:\", contador_merge2)\n"
   ]
  },
  {
   "cell_type": "code",
   "execution_count": null,
   "metadata": {},
   "outputs": [
    {
     "name": "stdout",
     "output_type": "stream",
     "text": [
      "[6, 2, 11, 7, 5, 4, 8, 16, 10, 3]\n",
      "[6, 2, 11, 7, 5]\n",
      "[6, 2]\n",
      "[11, 7, 5]\n",
      "[7, 5]\n",
      "[4, 8, 16, 10, 3]\n",
      "[4, 8]\n",
      "[16, 10, 3]\n",
      "[10, 3]\n",
      "[2, 3, 4, 5, 6, 7, 8, 10, 11, 16]\n",
      "Número de llamadas locales a merge2 es: 1\n",
      "Número total de llamadas a merge2 es: 9\n"
     ]
    }
   ],
   "source": [
    "# Declaramos un contador global\n",
    "contador_merge2_global = 0\n",
    "\n",
    "def mergeSort2(S):\n",
    "    global contador_merge2_global  # Declaramos que usaremos la variable global\n",
    "    n = len(S)\n",
    "    contador_merge2 = 0  # contador local\n",
    "\n",
    "    if n > 1:\n",
    "        print(S)\n",
    "        mid = n // 2\n",
    "        izquierda = S[:mid]\n",
    "        derecha = S[mid:]\n",
    "        \n",
    "        # Llamadas recursivas\n",
    "        mergeSort2(izquierda)\n",
    "        mergeSort2(derecha)\n",
    "        \n",
    "        # Llamada a merge2 y aumento de los contadores\n",
    "        merge2(S, izquierda, derecha)\n",
    "        contador_merge2 += 1\n",
    "        contador_merge2_global += 1  # Incrementamos el contador global\n",
    "\n",
    "    return contador_merge2\n",
    "\n",
    "def merge2(S, izquierda, derecha):\n",
    "    k = 0\n",
    "    while len(izquierda) > 0 and len(derecha) > 0:\n",
    "        if izquierda[0] <= derecha[0]:\n",
    "            S[k] = izquierda.pop(0)\n",
    "        else:\n",
    "            S[k] = derecha.pop(0)\n",
    "        k += 1\n",
    "    while len(izquierda) != 0:\n",
    "        S[k] = izquierda.pop(0)\n",
    "        k += 1\n",
    "    while len(derecha) != 0:\n",
    "        S[k] = derecha.pop(0)\n",
    "        k += 1\n",
    "\n",
    "# Ejecución del código\n",
    "S = [6, 2, 11, 7, 5, 4, 8, 16, 10, 3]\n",
    "contador_merge2 = mergeSort2(S)\n",
    "print(S)\n",
    "print(\"Número de llamadas locales a merge2 es:\", contador_merge2)\n",
    "print(\"Número total de llamadas a merge2 es:\", contador_merge2_global)\n"
   ]
  },
  {
   "cell_type": "code",
   "execution_count": null,
   "metadata": {},
   "outputs": [
    {
     "name": "stdout",
     "output_type": "stream",
     "text": [
      "[13, 10, 12, 15, 25, 20, 22] 0 6 pivot = 15\n",
      "[13, 10, 12, 15, 22, 20, 25] 4 6 pivot = 25\n",
      "[13, 10, 12, 15, 20, 22, 25] 4 5 pivot = 22\n",
      "[12, 10, 13, 15, 20, 22, 25] 0 2 pivot = 13\n",
      "[10, 12, 13, 15, 20, 22, 25] 0 1 pivot = 12\n",
      "Lista ordenada: [10, 12, 13, 15, 20, 22, 25]\n",
      "[10, 12, 13, 15, 20, 22, 25] 0 6 pivot = 10\n",
      "[10, 12, 13, 15, 20, 22, 25]\n"
     ]
    }
   ],
   "source": [
    "def partition1(S, bajo, alto):\n",
    "  # elegir el primer elemento como pivote\n",
    "  pivot = S[bajo]\n",
    "  i = bajo + 1\n",
    "  for j in range(bajo+1, alto+1):\n",
    "    if S[j] <= pivot:\n",
    "      S[i], S[j] = S[j], S[i]\n",
    "      i += 1\n",
    "\n",
    "  S[bajo], S[i-1] = S[i-1], S[bajo]\n",
    "  print(S, bajo, alto, \"pivot =\", pivot)\n",
    "  return i-1\n",
    "\n",
    "# Función quicksort usando partition1\n",
    "def quicksort(S):\n",
    "    pila = [(0, len(S) - 1)]  # Inicializar una pila con los índices bajo y alto\n",
    "    while pila:\n",
    "        bajo, alto = pila.pop()\n",
    "        if bajo < alto:\n",
    "            # Realiza la partición y obtiene el índice del pivote\n",
    "            pivote_index = partition1(S, bajo, alto)\n",
    "            # Agregar los subarrays izquierdo y derecho a la pila\n",
    "            pila.append((bajo, pivote_index - 1))\n",
    "            pila.append((pivote_index + 1, alto))\n",
    "\n",
    "\n",
    "# lista\n",
    "S = [15,10,12,20,25,13,22]\n",
    "# Llamada a quicksort para ordenar la lista completa\n",
    "quicksort(S)\n",
    "\n",
    "# Resultado final\n",
    "print(\"Lista ordenada:\", S)\n",
    "\n",
    "partition1(S, 0, len(S)-1)\n",
    "print(S)"
   ]
  }
 ],
 "metadata": {
  "language_info": {
   "name": "python"
  }
 },
 "nbformat": 4,
 "nbformat_minor": 2
}
