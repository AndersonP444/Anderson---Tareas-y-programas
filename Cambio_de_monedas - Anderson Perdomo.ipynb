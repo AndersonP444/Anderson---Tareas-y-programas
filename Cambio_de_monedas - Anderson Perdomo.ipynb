{
 "cells": [
  {
   "cell_type": "code",
   "execution_count": 12,
   "metadata": {},
   "outputs": [
    {
     "name": "stdout",
     "output_type": "stream",
     "text": [
      "El cambio para  400 es:  [(400, 1)] 1\n"
     ]
    }
   ],
   "source": [
    "def cambio_de_monedas(monedas, cantidad): # Definimos una funcion que nos dara el cambio con las monedas correspondientes\n",
    "    cambios = [] # lista donde se agregara el cambio \n",
    "    for valor, cantidad_disponible in monedas:\n",
    "        # Calculamos cuántas monedas de este valor podemos utilizar\n",
    "        cantidad_a_usar = min(cantidad // valor, cantidad_disponible)\n",
    "        if cantidad_a_usar > 0:\n",
    "            cambios.append((valor, cantidad_a_usar))\n",
    "            # Restamos el valor total de estas monedas del monto restante\n",
    "            cantidad -= valor * cantidad_a_usar\n",
    "        # Si hemos alcanzado el monto deseado, terminamos el bucle\n",
    "        if cantidad == 0:\n",
    "            break\n",
    "    # Verificamos si se logró alcanzar el monto\n",
    "    if cantidad > 0:\n",
    "        return \"No es posible alcanzar el monto exacto con las monedas disponibles.\" # Si el monto de cambio intruducido es mayor a la cantidad de monedas que se tiene, arrojara ese texto\n",
    "    return cambios\n",
    "\n",
    "# Lista de monedas con sus cantidades: (valor de la moneda, cantidad_disponible)\n",
    "monedas = [\n",
    "    (500, 2),   # 2 monedas de 500\n",
    "    (400, 2),   # 2 monedas de 400\n",
    "    (100, 1),   # 1 moneda de 100\n",
    "    (50, 3),    # 3 monedas de 50\n",
    "    (10, 8),    # 8 monedas de 10\n",
    "    (1, 10)     # 10 monedas de 1\n",
    "]\n",
    "cantidad = int(input(\"Ingrese la cantidad de cambio: \"))  # Monto objetivo\n",
    "cambios = cambio_de_monedas(monedas, cantidad)\n",
    "print(\"El cambio para \", cantidad,\"es: \", cambios, len(cambios))"
   ]
  }
 ],
 "metadata": {
  "kernelspec": {
   "display_name": "Python 3",
   "language": "python",
   "name": "python3"
  },
  "language_info": {
   "codemirror_mode": {
    "name": "ipython",
    "version": 3
   },
   "file_extension": ".py",
   "mimetype": "text/x-python",
   "name": "python",
   "nbconvert_exporter": "python",
   "pygments_lexer": "ipython3",
   "version": "3.13.0"
  }
 },
 "nbformat": 4,
 "nbformat_minor": 2
}
