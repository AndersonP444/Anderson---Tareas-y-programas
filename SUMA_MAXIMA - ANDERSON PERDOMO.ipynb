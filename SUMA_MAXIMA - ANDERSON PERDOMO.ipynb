{
 "cells": [
  {
   "cell_type": "code",
   "execution_count": 5,
   "metadata": {},
   "outputs": [
    {
     "name": "stdout",
     "output_type": "stream",
     "text": [
      "23\n"
     ]
    }
   ],
   "source": [
    "def maximos(sum):\n",
    "    suma_maximos = float('-inf')\n",
    "    suma_actual = 0\n",
    "\n",
    "    for num in sum:\n",
    "        suma_actual = max(num, suma_actual + num)\n",
    "        suma_maximos = max(suma_maximos, suma_actual)\n",
    "\n",
    "    return suma_maximos\n",
    "# Ejemplo de uso\n",
    "A = [9, 7, -2, 1, -2, 4, -1, 2, 1, -5, 4, 5, -4, 3]\n",
    "N =maximos(A)\n",
    "print(N)"
   ]
  }
 ],
 "metadata": {
  "kernelspec": {
   "display_name": "Python 3",
   "language": "python",
   "name": "python3"
  },
  "language_info": {
   "codemirror_mode": {
    "name": "ipython",
    "version": 3
   },
   "file_extension": ".py",
   "mimetype": "text/x-python",
   "name": "python",
   "nbconvert_exporter": "python",
   "pygments_lexer": "ipython3",
   "version": "3.13.0"
  }
 },
 "nbformat": 4,
 "nbformat_minor": 2
}
