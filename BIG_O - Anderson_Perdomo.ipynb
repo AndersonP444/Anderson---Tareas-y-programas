{
 "cells": [
  {
   "cell_type": "markdown",
   "metadata": {},
   "source": [
    " # Función para ordenar una lista usando el algoritmo de Burbuja"
   ]
  },
  {
   "cell_type": "code",
   "execution_count": 1,
   "metadata": {},
   "outputs": [
    {
     "name": "stdout",
     "output_type": "stream",
     "text": [
      "[50, 30, 40, 10, 20]\n",
      "[30, 40, 10, 20, 50]\n",
      "[30, 10, 20, 40, 50]\n",
      "[10, 20, 30, 40, 50]\n",
      "[10, 20, 30, 40, 50]\n",
      "[10, 20, 30, 40, 50]\n",
      "Se comparo 10 veces\n"
     ]
    }
   ],
   "source": [
    "def bubbleSort(S): # definimos la funcion\n",
    "    n = len(S)\n",
    "    comparaciones = 0\n",
    "    for i in range(n):\n",
    "        print(S)\n",
    "        for j in range(0, n-i-1):\n",
    "          comparaciones += 1\n",
    "          if S[j] > S[j+1]:\n",
    "            S[j] , S[j+1] = S[j+1] , S[j]\n",
    "\n",
    "    return comparaciones\n",
    "\n",
    "S = [50, 30, 40, 10, 20]\n",
    "comparaciones = bubbleSort(S)\n",
    "print(S)\n",
    "print(f\"Se comparo {comparaciones} veces\") # aca contamos la cantidad de comparaciones"
   ]
  },
  {
   "cell_type": "markdown",
   "metadata": {},
   "source": [
    " # Función para ordenar una lista usando el algoritmo de Insercion"
   ]
  },
  {
   "cell_type": "code",
   "execution_count": 2,
   "metadata": {},
   "outputs": [
    {
     "name": "stdout",
     "output_type": "stream",
     "text": [
      "[50, 30, 40, 10, 20]\n",
      "[30, 50, 40, 10, 20]\n",
      "[30, 40, 50, 10, 20]\n",
      "[10, 30, 40, 50, 20]\n",
      "[10, 20, 30, 40, 50]\n",
      "Se comparo 8 veces\n"
     ]
    }
   ],
   "source": [
    "def insertionSort2(S):\n",
    "    n = len(S)\n",
    "    comparaciones = 0\n",
    "    for i in range(1,n):\n",
    "        print(S)\n",
    "        x = S[i]\n",
    "        j = i - 1\n",
    "        while j >= 0 and S[j] > x:\n",
    "            comparaciones += 1\n",
    "            S[j+1] = S[j]\n",
    "            j -= 1\n",
    "        S[j + 1] = x\n",
    "\n",
    "    return comparaciones\n",
    "\n",
    "S = [50, 30, 40, 10, 20]\n",
    "total_comparaciones = insertionSort2(S)\n",
    "print(S)\n",
    "print(f\"Se comparo {total_comparaciones} veces\")"
   ]
  },
  {
   "cell_type": "markdown",
   "metadata": {},
   "source": [
    " # Función para ordenar una lista usando el algoritmo de Seleccion"
   ]
  },
  {
   "cell_type": "code",
   "execution_count": 5,
   "metadata": {},
   "outputs": [
    {
     "name": "stdout",
     "output_type": "stream",
     "text": [
      "Lista ordenada (Selección): [10, 20, 30, 40, 50]\n"
     ]
    }
   ],
   "source": [
    "def selection_sort(s):\n",
    "    n = len(s)  # Obten la longitud de la lista\n",
    "\n",
    "    for i in range(n):  # Itera desde el principio hasta el final de la lista\n",
    "        min_idx = i  # Inicializa la posición del elemento mínimo en i\n",
    "        for j in range(i+1, n):  # Itera desde el siguiente elemento hasta el final de la lista\n",
    "            if s[j] < s[min_idx]:  # Si el elemento actual es menor que el mínimo actual\n",
    "                min_idx = j  # Actualiza la posición del elemento mínimo\n",
    "        s[i], s[min_idx] = s[min_idx], s[i]  # Intercambia el elemento mínimo con el elemento actual\n",
    "    return s  # Regresa la lista ordenada\n",
    "\n",
    "s = [50, 30, 40, 10, 20]\n",
    "s = selection_sort(s)\n",
    "print(\"Lista ordenada (Selección):\", s)"
   ]
  }
 ],
 "metadata": {
  "kernelspec": {
   "display_name": "Python 3",
   "language": "python",
   "name": "python3"
  },
  "language_info": {
   "codemirror_mode": {
    "name": "ipython",
    "version": 3
   },
   "file_extension": ".py",
   "mimetype": "text/x-python",
   "name": "python",
   "nbconvert_exporter": "python",
   "pygments_lexer": "ipython3",
   "version": "3.13.0"
  }
 },
 "nbformat": 4,
 "nbformat_minor": 2
}
